{
 "cells": [
  {
   "cell_type": "markdown",
   "metadata": {},
   "source": [
    "## Purpose\n",
    "\n",
    "- test sampling \n",
    "----\n",
    "\n",
    "## TODO\n",
    "\n",
    "1. save sparse matrices for import "
   ]
  },
  {
   "cell_type": "code",
   "execution_count": 36,
   "metadata": {},
   "outputs": [
    {
     "name": "stdout",
     "output_type": "stream",
     "text": [
      "The memory_profiler extension is already loaded. To reload it, use:\n",
      "  %reload_ext memory_profiler\n"
     ]
    }
   ],
   "source": [
    "%load_ext memory_profiler\n",
    "%matplotlib inline\n",
    "\n",
    "import os, sys, glob, re, math, pickle\n",
    "import phate,scprep,magic,meld,umap\n",
    "import graphtools as gt\n",
    "import numpy as np\n",
    "import seaborn as sns\n",
    "import matplotlib.pyplot as plt\n",
    "import pandas as pd\n",
    "from scipy import stats\n",
    "import cmocean,time,random\n",
    "# import scvelo as scv\n",
    "# import community, phenograph\n",
    "from sklearn import metrics\n",
    "from sklearn import model_selection\n",
    "from scipy import sparse\n",
    "import scanpy as sc\n",
    "from sklearn.dummy import DummyClassifier\n",
    "\n",
    "import torch\n",
    "import torch.nn as nn\n",
    "import torch.nn.functional as F\n",
    "import argparse\n",
    "import torch.optim as optim\n",
    "from torch.autograd import Variable\n",
    "from torch.nn.parameter import Parameter\n",
    "from torch.nn.modules.module import Module\n",
    "from torch_geometric.data import Data\n",
    "from torch_geometric.data import NeighborSampler\n",
    "\n",
    "\n",
    "# default for `matplotlib` font size\n",
    "plt.rc('font', size = 9)\n",
    "plt.rc('font', family='sans serif')\n",
    "plt.rcParams['legend.frameon']=False\n",
    "plt.rcParams['axes.grid']=False\n",
    "plt.rcParams['legend.markerscale']=0.5\n",
    "sc.set_figure_params(dpi=300,dpi_save=600,\n",
    "                     frameon=False,\n",
    "                     fontsize=9)\n",
    "plt.rcParams['savefig.dpi'] = 600\n",
    "sc.settings.verbosity=3"
   ]
  },
  {
   "cell_type": "code",
   "execution_count": 2,
   "metadata": {},
   "outputs": [],
   "source": [
    "if False :\n",
    "    pfp = '/home/ngr4/project/scnd/results/'\n",
    "    pdfp = '/home/ngr4/project/scnd/data/processed/'\n",
    "    sc.settings.figdir=pfp\n",
    "\n",
    "    # load 'test' data for val\n",
    "    with open(os.path.join(pdfp,'earlyDev_test.pickle'),'rb') as f:\n",
    "        data_test = pickle.load(f) # test if b, np.sum(b['adj']==adj_train)==adj_train.shape[0]**2\n",
    "    labels_val=data_test['labels']\n",
    "    labels_val=torch.LongTensor(labels_val)\n",
    "    adj_val = data_test['adj']\n",
    "    adj_val = torch.from_numpy(adj_val)\n",
    "    features_val = data_test['node_features']\n",
    "    features_val = torch.from_numpy(features_val)\n",
    "    \n",
    "if True :\n",
    "    pdfp='/home/ngr4/project/scgraph/data/processed/'\n",
    "    %memit adata = sc.read(os.path.join(pdfp,'induction_train_50p.h5ad'))"
   ]
  },
  {
   "cell_type": "code",
   "execution_count": 3,
   "metadata": {},
   "outputs": [],
   "source": [
    "def scipysparse2torchsparse(x) :\n",
    "    '''\n",
    "    Input: scipy csr_matrix\n",
    "    Returns: torch tensor in experimental sparse format\n",
    "\n",
    "    REF: Code adatped from [PyTorch discussion forum](https://discuss.pytorch.org/t/better-way-to-forward-sparse-matrix/21915>)\n",
    "    '''\n",
    "    samples=x.shape[0]\n",
    "    features=x.shape[1]\n",
    "    values=x.data\n",
    "    coo_data=x.tocoo()\n",
    "    indices=torch.LongTensor([coo_data.row,coo_data.col]) # OR transpose list of index tuples\n",
    "    t=torch.sparse.FloatTensor(indices,torch.from_numpy(values).float(),[samples,features])\n",
    "    return indices,t"
   ]
  },
  {
   "cell_type": "code",
   "execution_count": 33,
   "metadata": {},
   "outputs": [],
   "source": [
    "labels = adata.obs['MS']\n",
    "labels = torch.LongTensor(labels)\n",
    "edge_index,edge_feat = scipysparse2torchsparse(adata.uns['neighbors']['connectivities'])\n",
    "%memit X_idx,X = scipysparse2torchsparse(adata.X)"
   ]
  },
  {
   "cell_type": "code",
   "execution_count": 35,
   "metadata": {},
   "outputs": [],
   "source": [
    "data = Data(x=X, edge_index=edge_index, y=labels)"
   ]
  },
  {
   "cell_type": "code",
   "execution_count": 40,
   "metadata": {},
   "outputs": [],
   "source": [
    "loader = NeighborSampler(data,size=10,add_self_loops=True,\n",
    "                         num_hops=1,batch_size=512,shuffle=True)"
   ]
  },
  {
   "cell_type": "code",
   "execution_count": 43,
   "metadata": {},
   "outputs": [],
   "source": [
    "batch = loader.__produce_subgraph__(loader.__get_batches__()[0])"
   ]
  },
  {
   "cell_type": "code",
   "execution_count": 49,
   "metadata": {},
   "outputs": [
    {
     "data": {
      "text/plain": [
       "Data(b_id=[512], e_id=[4996], edge_index=[2, 4996], n_id=[5045], sub_b_id=[512])"
      ]
     },
     "execution_count": 49,
     "metadata": {},
     "output_type": "execute_result"
    }
   ],
   "source": [
    "batch"
   ]
  },
  {
   "cell_type": "code",
   "execution_count": 48,
   "metadata": {},
   "outputs": [
    {
     "data": {
      "text/plain": [
       "5045"
      ]
     },
     "execution_count": 48,
     "metadata": {},
     "output_type": "execute_result"
    }
   ],
   "source": [
    "batch.num_nodes"
   ]
  },
  {
   "cell_type": "code",
   "execution_count": 58,
   "metadata": {},
   "outputs": [
    {
     "data": {
      "text/plain": [
       "tensor(indices=tensor([[    0,     0,     0,  ..., 43865, 43865, 43865],\n",
       "                       [    8,    13,    21,  ..., 21980, 21982, 21993]]),\n",
       "       values=tensor([0.9790, 0.9790, 0.9790,  ..., 1.2838, 0.9078, 0.9078]),\n",
       "       size=(43866, 22005), nnz=59179416, layout=torch.sparse_coo)"
      ]
     },
     "execution_count": 58,
     "metadata": {},
     "output_type": "execute_result"
    }
   ],
   "source": [
    "data.x"
   ]
  },
  {
   "cell_type": "code",
   "execution_count": 56,
   "metadata": {},
   "outputs": [
    {
     "ename": "RuntimeError",
     "evalue": "sparse tensors do not have strides",
     "output_type": "error",
     "traceback": [
      "\u001b[0;31m---------------------------------------------------------------------------\u001b[0m",
      "\u001b[0;31mRuntimeError\u001b[0m                              Traceback (most recent call last)",
      "\u001b[0;32m<ipython-input-56-ca17dfcaf310>\u001b[0m in \u001b[0;36m<module>\u001b[0;34m\u001b[0m\n\u001b[0;32m----> 1\u001b[0;31m \u001b[0mdata\u001b[0m\u001b[0;34m.\u001b[0m\u001b[0mx\u001b[0m\u001b[0;34m[\u001b[0m\u001b[0mbatch\u001b[0m\u001b[0;34m.\u001b[0m\u001b[0mb_id\u001b[0m\u001b[0;34m,\u001b[0m\u001b[0;34m:\u001b[0m\u001b[0;34m]\u001b[0m\u001b[0;34m\u001b[0m\u001b[0;34m\u001b[0m\u001b[0m\n\u001b[0m",
      "\u001b[0;31mRuntimeError\u001b[0m: sparse tensors do not have strides"
     ]
    }
   ],
   "source": [
    "data.x[batch.b_id,:]"
   ]
  },
  {
   "cell_type": "code",
   "execution_count": 63,
   "metadata": {},
   "outputs": [
    {
     "data": {
      "text/plain": [
       "tensor([[0.0000, 0.3598, 0.0772, 0.5382],\n",
       "        [0.5501, 0.1705, 0.0000, 0.7037],\n",
       "        [0.9368, 0.1809, 0.0000, 0.8275]])"
      ]
     },
     "execution_count": 63,
     "metadata": {},
     "output_type": "execute_result"
    }
   ],
   "source": [
    "x = torch.rand([3,4])\n",
    "x[[0,1,2],[0,2,2]]=0\n",
    "x"
   ]
  },
  {
   "cell_type": "code",
   "execution_count": 64,
   "metadata": {},
   "outputs": [
    {
     "data": {
      "text/plain": [
       "tensor([[0, 1],\n",
       "        [0, 2],\n",
       "        [0, 3],\n",
       "        [1, 0],\n",
       "        [1, 1],\n",
       "        [1, 3],\n",
       "        [2, 0],\n",
       "        [2, 1],\n",
       "        [2, 3]])"
      ]
     },
     "execution_count": 64,
     "metadata": {},
     "output_type": "execute_result"
    }
   ],
   "source": [
    "x.nonzero()"
   ]
  },
  {
   "cell_type": "code",
   "execution_count": null,
   "metadata": {},
   "outputs": [],
   "source": []
  }
 ],
 "metadata": {
  "kernelspec": {
   "display_name": "Python 3",
   "language": "python",
   "name": "python3"
  },
  "language_info": {
   "codemirror_mode": {
    "name": "ipython",
    "version": 3
   },
   "file_extension": ".py",
   "mimetype": "text/x-python",
   "name": "python",
   "nbconvert_exporter": "python",
   "pygments_lexer": "ipython3",
   "version": "3.7.6"
  }
 },
 "nbformat": 4,
 "nbformat_minor": 4
}
